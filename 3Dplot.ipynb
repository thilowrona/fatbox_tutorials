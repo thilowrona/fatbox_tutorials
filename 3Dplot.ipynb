{
 "cells": [
  {
   "cell_type": "code",
   "execution_count": 14,
   "metadata": {},
   "outputs": [
    {
     "data": {
      "text/plain": [
       "NodeView((1, 2, 3, 4, 5, 6))"
      ]
     },
     "execution_count": 14,
     "metadata": {},
     "output_type": "execute_result"
    }
   ],
   "source": [
    "import matplotlib.pyplot as plt\n",
    "import plotly.graph_objects as go\n",
    "import networkx as nx\n",
    "\n",
    "G = nx.Graph()\n",
    "G.add_edge(1, 2, weight = 1)\n",
    "G.add_edge(2, 3, weight = 3)\n",
    "G.add_edge(4, 5, weight = 2)\n",
    "G.add_edge(6, 3, weight = 4)\n",
    "G.add_edge(6, 4, weight = 6)\n",
    "\n",
    "edge_weights =[1,3,2,4,6]\n",
    "\n",
    "Num_nodes = len(G.nodes)\n",
    "\n",
    "# plt.figure(figsize=(5,5))\n",
    "edges = G.edges()\n",
    "edges"
   ]
  },
  {
   "cell_type": "code",
   "execution_count": 13,
   "metadata": {},
   "outputs": [
    {
     "data": {
      "text/plain": [
       "{1: array([-0.60089862, -0.69453029,  1.        ]),\n",
       " 2: array([-0.30085081, -0.35297453,  0.50269152]),\n",
       " 3: array([-0.07427323, -0.09255943,  0.12621004]),\n",
       " 4: array([ 0.30618168,  0.35520915, -0.51003066]),\n",
       " 5: array([ 0.53358918,  0.6321163 , -0.89399089]),\n",
       " 6: array([ 0.1362518 ,  0.1527388 , -0.22488001])}"
      ]
     },
     "execution_count": 13,
     "metadata": {},
     "output_type": "execute_result"
    }
   ],
   "source": [
    "# ## update to 3d dimension\n",
    "spring_3D = nx.spring_layout(G, dim = 3) # k regulates the distance between nodes\n",
    "# weights = [G[u][v]['weight'] for u,v in edges]\n",
    "# nx.draw(G, with_labels=True, node_color='skyblue', font_weight='bold',  width=weights, pos=pos)\n",
    "\n",
    "# we need to seperate the X,Y,Z coordinates for Plotly\n",
    "# NOTE: spring_3D is a dictionary where the keys are 1,...,6\n",
    "x_nodes= [spring_3D[key][0] for key in spring_3D.keys()] # x-coordinates of nodes\n",
    "y_nodes = [spring_3D[key][1] for key in spring_3D.keys()] # y-coordinates\n",
    "z_nodes = [spring_3D[key][2] for key in spring_3D.keys()] # z-coordinates\n",
    "\n",
    "#we need to create lists that contain the starting and ending coordinates of each edge.\n",
    "x_edges=[]\n",
    "y_edges=[]\n",
    "z_edges=[]\n",
    "\n",
    "#create lists holding midpoints that we will use to anchor text\n",
    "xtp = []\n",
    "ytp = []\n",
    "ztp = []\n",
    "\n",
    "spring_3D"
   ]
  },
  {
   "cell_type": "code",
   "execution_count": 3,
   "metadata": {},
   "outputs": [
    {
     "data": {
      "application/vnd.plotly.v1+json": {
       "config": {
        "plotlyServerURL": "https://plot.ly"
       },
       "data": [
        {
         "hoverinfo": "none",
         "line": {
          "color": "black",
          "width": 2
         },
         "mode": "lines",
         "type": "scatter3d",
         "x": [
          0.439304230476964,
          0.2188290873268813,
          null,
          0.2188290873268813,
          0.052261126644110076,
          null,
          0.052261126644110076,
          -0.0995458067808691,
          null,
          -0.22400538967879496,
          -0.386843247988291,
          null,
          -0.22400538967879496,
          -0.0995458067808691,
          null
         ],
         "y": [
          -0.43818542297713275,
          -0.21886859057035582,
          null,
          -0.21886859057035582,
          -0.05282511174317044,
          null,
          -0.05282511174317044,
          0.0989119588801771,
          null,
          0.2236431575547788,
          0.3873240088557032,
          null,
          0.2236431575547788,
          0.0989119588801771,
          null
         ],
         "z": [
          -1,
          -0.5088941438443408,
          null,
          -0.5088941438443408,
          -0.13154524293432115,
          null,
          -0.13154524293432115,
          0.21972784980500573,
          null,
          0.513660438328808,
          0.9070510986448486,
          null,
          0.513660438328808,
          0.21972784980500573,
          null
         ]
        },
        {
         "marker": {
          "color": "skyblue",
          "size": 10,
          "symbol": "circle"
         },
         "mode": "markers",
         "type": "scatter3d",
         "x": [
          0.439304230476964,
          0.2188290873268813,
          0.052261126644110076,
          -0.22400538967879496,
          -0.386843247988291,
          -0.0995458067808691
         ],
         "y": [
          -0.43818542297713275,
          -0.21886859057035582,
          -0.05282511174317044,
          0.2236431575547788,
          0.3873240088557032,
          0.0989119588801771
         ],
         "z": [
          -1,
          -0.5088941438443408,
          -0.13154524293432115,
          0.513660438328808,
          0.9070510986448486,
          0.21972784980500573
         ]
        },
        {
         "hoverinfo": "text",
         "marker": {
          "color": "rgb(125,125,125)",
          "size": 1
         },
         "mode": "markers",
         "text": [
          "weight=1",
          "weight=3",
          "weight=2",
          "weight=4",
          "weight=6"
         ],
         "type": "scatter3d",
         "x": [
          0.32906665890192266,
          0.13554510698549568,
          -0.023642340068379515,
          -0.305424318833543,
          -0.16177559822983203
         ],
         "y": [
          -0.3285270067737443,
          -0.13584685115676312,
          0.02304342356850333,
          0.305483583205241,
          0.16127755821747794
         ],
         "z": [
          -0.7544470719221704,
          -0.320219693389331,
          0.04409130343534229,
          0.7103557684868282,
          0.36669414406690687
         ]
        }
       ],
       "layout": {
        "template": {
         "data": {
          "bar": [
           {
            "error_x": {
             "color": "#2a3f5f"
            },
            "error_y": {
             "color": "#2a3f5f"
            },
            "marker": {
             "line": {
              "color": "#E5ECF6",
              "width": 0.5
             },
             "pattern": {
              "fillmode": "overlay",
              "size": 10,
              "solidity": 0.2
             }
            },
            "type": "bar"
           }
          ],
          "barpolar": [
           {
            "marker": {
             "line": {
              "color": "#E5ECF6",
              "width": 0.5
             },
             "pattern": {
              "fillmode": "overlay",
              "size": 10,
              "solidity": 0.2
             }
            },
            "type": "barpolar"
           }
          ],
          "carpet": [
           {
            "aaxis": {
             "endlinecolor": "#2a3f5f",
             "gridcolor": "white",
             "linecolor": "white",
             "minorgridcolor": "white",
             "startlinecolor": "#2a3f5f"
            },
            "baxis": {
             "endlinecolor": "#2a3f5f",
             "gridcolor": "white",
             "linecolor": "white",
             "minorgridcolor": "white",
             "startlinecolor": "#2a3f5f"
            },
            "type": "carpet"
           }
          ],
          "choropleth": [
           {
            "colorbar": {
             "outlinewidth": 0,
             "ticks": ""
            },
            "type": "choropleth"
           }
          ],
          "contour": [
           {
            "colorbar": {
             "outlinewidth": 0,
             "ticks": ""
            },
            "colorscale": [
             [
              0,
              "#0d0887"
             ],
             [
              0.1111111111111111,
              "#46039f"
             ],
             [
              0.2222222222222222,
              "#7201a8"
             ],
             [
              0.3333333333333333,
              "#9c179e"
             ],
             [
              0.4444444444444444,
              "#bd3786"
             ],
             [
              0.5555555555555556,
              "#d8576b"
             ],
             [
              0.6666666666666666,
              "#ed7953"
             ],
             [
              0.7777777777777778,
              "#fb9f3a"
             ],
             [
              0.8888888888888888,
              "#fdca26"
             ],
             [
              1,
              "#f0f921"
             ]
            ],
            "type": "contour"
           }
          ],
          "contourcarpet": [
           {
            "colorbar": {
             "outlinewidth": 0,
             "ticks": ""
            },
            "type": "contourcarpet"
           }
          ],
          "heatmap": [
           {
            "colorbar": {
             "outlinewidth": 0,
             "ticks": ""
            },
            "colorscale": [
             [
              0,
              "#0d0887"
             ],
             [
              0.1111111111111111,
              "#46039f"
             ],
             [
              0.2222222222222222,
              "#7201a8"
             ],
             [
              0.3333333333333333,
              "#9c179e"
             ],
             [
              0.4444444444444444,
              "#bd3786"
             ],
             [
              0.5555555555555556,
              "#d8576b"
             ],
             [
              0.6666666666666666,
              "#ed7953"
             ],
             [
              0.7777777777777778,
              "#fb9f3a"
             ],
             [
              0.8888888888888888,
              "#fdca26"
             ],
             [
              1,
              "#f0f921"
             ]
            ],
            "type": "heatmap"
           }
          ],
          "heatmapgl": [
           {
            "colorbar": {
             "outlinewidth": 0,
             "ticks": ""
            },
            "colorscale": [
             [
              0,
              "#0d0887"
             ],
             [
              0.1111111111111111,
              "#46039f"
             ],
             [
              0.2222222222222222,
              "#7201a8"
             ],
             [
              0.3333333333333333,
              "#9c179e"
             ],
             [
              0.4444444444444444,
              "#bd3786"
             ],
             [
              0.5555555555555556,
              "#d8576b"
             ],
             [
              0.6666666666666666,
              "#ed7953"
             ],
             [
              0.7777777777777778,
              "#fb9f3a"
             ],
             [
              0.8888888888888888,
              "#fdca26"
             ],
             [
              1,
              "#f0f921"
             ]
            ],
            "type": "heatmapgl"
           }
          ],
          "histogram": [
           {
            "marker": {
             "pattern": {
              "fillmode": "overlay",
              "size": 10,
              "solidity": 0.2
             }
            },
            "type": "histogram"
           }
          ],
          "histogram2d": [
           {
            "colorbar": {
             "outlinewidth": 0,
             "ticks": ""
            },
            "colorscale": [
             [
              0,
              "#0d0887"
             ],
             [
              0.1111111111111111,
              "#46039f"
             ],
             [
              0.2222222222222222,
              "#7201a8"
             ],
             [
              0.3333333333333333,
              "#9c179e"
             ],
             [
              0.4444444444444444,
              "#bd3786"
             ],
             [
              0.5555555555555556,
              "#d8576b"
             ],
             [
              0.6666666666666666,
              "#ed7953"
             ],
             [
              0.7777777777777778,
              "#fb9f3a"
             ],
             [
              0.8888888888888888,
              "#fdca26"
             ],
             [
              1,
              "#f0f921"
             ]
            ],
            "type": "histogram2d"
           }
          ],
          "histogram2dcontour": [
           {
            "colorbar": {
             "outlinewidth": 0,
             "ticks": ""
            },
            "colorscale": [
             [
              0,
              "#0d0887"
             ],
             [
              0.1111111111111111,
              "#46039f"
             ],
             [
              0.2222222222222222,
              "#7201a8"
             ],
             [
              0.3333333333333333,
              "#9c179e"
             ],
             [
              0.4444444444444444,
              "#bd3786"
             ],
             [
              0.5555555555555556,
              "#d8576b"
             ],
             [
              0.6666666666666666,
              "#ed7953"
             ],
             [
              0.7777777777777778,
              "#fb9f3a"
             ],
             [
              0.8888888888888888,
              "#fdca26"
             ],
             [
              1,
              "#f0f921"
             ]
            ],
            "type": "histogram2dcontour"
           }
          ],
          "mesh3d": [
           {
            "colorbar": {
             "outlinewidth": 0,
             "ticks": ""
            },
            "type": "mesh3d"
           }
          ],
          "parcoords": [
           {
            "line": {
             "colorbar": {
              "outlinewidth": 0,
              "ticks": ""
             }
            },
            "type": "parcoords"
           }
          ],
          "pie": [
           {
            "automargin": true,
            "type": "pie"
           }
          ],
          "scatter": [
           {
            "fillpattern": {
             "fillmode": "overlay",
             "size": 10,
             "solidity": 0.2
            },
            "type": "scatter"
           }
          ],
          "scatter3d": [
           {
            "line": {
             "colorbar": {
              "outlinewidth": 0,
              "ticks": ""
             }
            },
            "marker": {
             "colorbar": {
              "outlinewidth": 0,
              "ticks": ""
             }
            },
            "type": "scatter3d"
           }
          ],
          "scattercarpet": [
           {
            "marker": {
             "colorbar": {
              "outlinewidth": 0,
              "ticks": ""
             }
            },
            "type": "scattercarpet"
           }
          ],
          "scattergeo": [
           {
            "marker": {
             "colorbar": {
              "outlinewidth": 0,
              "ticks": ""
             }
            },
            "type": "scattergeo"
           }
          ],
          "scattergl": [
           {
            "marker": {
             "colorbar": {
              "outlinewidth": 0,
              "ticks": ""
             }
            },
            "type": "scattergl"
           }
          ],
          "scattermapbox": [
           {
            "marker": {
             "colorbar": {
              "outlinewidth": 0,
              "ticks": ""
             }
            },
            "type": "scattermapbox"
           }
          ],
          "scatterpolar": [
           {
            "marker": {
             "colorbar": {
              "outlinewidth": 0,
              "ticks": ""
             }
            },
            "type": "scatterpolar"
           }
          ],
          "scatterpolargl": [
           {
            "marker": {
             "colorbar": {
              "outlinewidth": 0,
              "ticks": ""
             }
            },
            "type": "scatterpolargl"
           }
          ],
          "scatterternary": [
           {
            "marker": {
             "colorbar": {
              "outlinewidth": 0,
              "ticks": ""
             }
            },
            "type": "scatterternary"
           }
          ],
          "surface": [
           {
            "colorbar": {
             "outlinewidth": 0,
             "ticks": ""
            },
            "colorscale": [
             [
              0,
              "#0d0887"
             ],
             [
              0.1111111111111111,
              "#46039f"
             ],
             [
              0.2222222222222222,
              "#7201a8"
             ],
             [
              0.3333333333333333,
              "#9c179e"
             ],
             [
              0.4444444444444444,
              "#bd3786"
             ],
             [
              0.5555555555555556,
              "#d8576b"
             ],
             [
              0.6666666666666666,
              "#ed7953"
             ],
             [
              0.7777777777777778,
              "#fb9f3a"
             ],
             [
              0.8888888888888888,
              "#fdca26"
             ],
             [
              1,
              "#f0f921"
             ]
            ],
            "type": "surface"
           }
          ],
          "table": [
           {
            "cells": {
             "fill": {
              "color": "#EBF0F8"
             },
             "line": {
              "color": "white"
             }
            },
            "header": {
             "fill": {
              "color": "#C8D4E3"
             },
             "line": {
              "color": "white"
             }
            },
            "type": "table"
           }
          ]
         },
         "layout": {
          "annotationdefaults": {
           "arrowcolor": "#2a3f5f",
           "arrowhead": 0,
           "arrowwidth": 1
          },
          "autotypenumbers": "strict",
          "coloraxis": {
           "colorbar": {
            "outlinewidth": 0,
            "ticks": ""
           }
          },
          "colorscale": {
           "diverging": [
            [
             0,
             "#8e0152"
            ],
            [
             0.1,
             "#c51b7d"
            ],
            [
             0.2,
             "#de77ae"
            ],
            [
             0.3,
             "#f1b6da"
            ],
            [
             0.4,
             "#fde0ef"
            ],
            [
             0.5,
             "#f7f7f7"
            ],
            [
             0.6,
             "#e6f5d0"
            ],
            [
             0.7,
             "#b8e186"
            ],
            [
             0.8,
             "#7fbc41"
            ],
            [
             0.9,
             "#4d9221"
            ],
            [
             1,
             "#276419"
            ]
           ],
           "sequential": [
            [
             0,
             "#0d0887"
            ],
            [
             0.1111111111111111,
             "#46039f"
            ],
            [
             0.2222222222222222,
             "#7201a8"
            ],
            [
             0.3333333333333333,
             "#9c179e"
            ],
            [
             0.4444444444444444,
             "#bd3786"
            ],
            [
             0.5555555555555556,
             "#d8576b"
            ],
            [
             0.6666666666666666,
             "#ed7953"
            ],
            [
             0.7777777777777778,
             "#fb9f3a"
            ],
            [
             0.8888888888888888,
             "#fdca26"
            ],
            [
             1,
             "#f0f921"
            ]
           ],
           "sequentialminus": [
            [
             0,
             "#0d0887"
            ],
            [
             0.1111111111111111,
             "#46039f"
            ],
            [
             0.2222222222222222,
             "#7201a8"
            ],
            [
             0.3333333333333333,
             "#9c179e"
            ],
            [
             0.4444444444444444,
             "#bd3786"
            ],
            [
             0.5555555555555556,
             "#d8576b"
            ],
            [
             0.6666666666666666,
             "#ed7953"
            ],
            [
             0.7777777777777778,
             "#fb9f3a"
            ],
            [
             0.8888888888888888,
             "#fdca26"
            ],
            [
             1,
             "#f0f921"
            ]
           ]
          },
          "colorway": [
           "#636efa",
           "#EF553B",
           "#00cc96",
           "#ab63fa",
           "#FFA15A",
           "#19d3f3",
           "#FF6692",
           "#B6E880",
           "#FF97FF",
           "#FECB52"
          ],
          "font": {
           "color": "#2a3f5f"
          },
          "geo": {
           "bgcolor": "white",
           "lakecolor": "white",
           "landcolor": "#E5ECF6",
           "showlakes": true,
           "showland": true,
           "subunitcolor": "white"
          },
          "hoverlabel": {
           "align": "left"
          },
          "hovermode": "closest",
          "mapbox": {
           "style": "light"
          },
          "paper_bgcolor": "white",
          "plot_bgcolor": "#E5ECF6",
          "polar": {
           "angularaxis": {
            "gridcolor": "white",
            "linecolor": "white",
            "ticks": ""
           },
           "bgcolor": "#E5ECF6",
           "radialaxis": {
            "gridcolor": "white",
            "linecolor": "white",
            "ticks": ""
           }
          },
          "scene": {
           "xaxis": {
            "backgroundcolor": "#E5ECF6",
            "gridcolor": "white",
            "gridwidth": 2,
            "linecolor": "white",
            "showbackground": true,
            "ticks": "",
            "zerolinecolor": "white"
           },
           "yaxis": {
            "backgroundcolor": "#E5ECF6",
            "gridcolor": "white",
            "gridwidth": 2,
            "linecolor": "white",
            "showbackground": true,
            "ticks": "",
            "zerolinecolor": "white"
           },
           "zaxis": {
            "backgroundcolor": "#E5ECF6",
            "gridcolor": "white",
            "gridwidth": 2,
            "linecolor": "white",
            "showbackground": true,
            "ticks": "",
            "zerolinecolor": "white"
           }
          },
          "shapedefaults": {
           "line": {
            "color": "#2a3f5f"
           }
          },
          "ternary": {
           "aaxis": {
            "gridcolor": "white",
            "linecolor": "white",
            "ticks": ""
           },
           "baxis": {
            "gridcolor": "white",
            "linecolor": "white",
            "ticks": ""
           },
           "bgcolor": "#E5ECF6",
           "caxis": {
            "gridcolor": "white",
            "linecolor": "white",
            "ticks": ""
           }
          },
          "title": {
           "x": 0.05
          },
          "xaxis": {
           "automargin": true,
           "gridcolor": "white",
           "linecolor": "white",
           "ticks": "",
           "title": {
            "standoff": 15
           },
           "zerolinecolor": "white",
           "zerolinewidth": 2
          },
          "yaxis": {
           "automargin": true,
           "gridcolor": "white",
           "linecolor": "white",
           "ticks": "",
           "title": {
            "standoff": 15
           },
           "zerolinecolor": "white",
           "zerolinewidth": 2
          }
         }
        }
       }
      }
     },
     "metadata": {},
     "output_type": "display_data"
    }
   ],
   "source": [
    "%matplotlib inline\n",
    "#need to fill these with all of the coordinates\n",
    "for edge in edges:\n",
    "    #format: [beginning,ending,None]\n",
    "    x_coords = [spring_3D[edge[0]][0],spring_3D[edge[1]][0],None]\n",
    "    x_edges += x_coords\n",
    "    xtp.append(0.5*(spring_3D[edge[0]][0]+ spring_3D[edge[1]][0]))\n",
    "\n",
    "    y_coords = [spring_3D[edge[0]][1],spring_3D[edge[1]][1],None]\n",
    "    y_edges += y_coords\n",
    "    ytp.append(0.5*(spring_3D[edge[0]][1]+ spring_3D[edge[1]][1]))\n",
    "\n",
    "    z_coords = [spring_3D[edge[0]][2],spring_3D[edge[1]][2],None]\n",
    "    z_edges += z_coords\n",
    "    ztp.append(0.5*(spring_3D[edge[0]][2]+ spring_3D[edge[1]][2])) \n",
    "\n",
    "\n",
    "etext = [f'weight={w}' for w in edge_weights]\n",
    "\n",
    "trace_weights = go.Scatter3d(x=xtp, y=ytp, z=ztp,\n",
    "    mode='markers',\n",
    "    marker =dict(color='rgb(125,125,125)', size=1), #set the same color as for the edge lines\n",
    "    text = etext, hoverinfo='text')\n",
    "\n",
    "#create a trace for the edges\n",
    "trace_edges = go.Scatter3d(\n",
    "    x=x_edges,\n",
    "    y=y_edges,\n",
    "    z=z_edges,\n",
    "    mode='lines',\n",
    "    line=dict(color='black', width=2),\n",
    "    hoverinfo='none')\n",
    "\n",
    "#create a trace for the nodes\n",
    "trace_nodes = go.Scatter3d(\n",
    "    x=x_nodes,\n",
    "    y=y_nodes,\n",
    "    z=z_nodes,\n",
    "    mode='markers',\n",
    "    marker=dict(symbol='circle',\n",
    "            size=10,\n",
    "            color='skyblue')\n",
    "    )\n",
    "\n",
    "#Include the traces we want to plot and create a figure\n",
    "data = [trace_edges, trace_nodes, trace_weights]\n",
    "fig = go.Figure(data=data)\n",
    "\n",
    "fig.show()"
   ]
  },
  {
   "cell_type": "code",
   "execution_count": 5,
   "metadata": {},
   "outputs": [
    {
     "name": "stdout",
     "output_type": "stream",
     "text": [
      "Looking in indexes: https://pypi.org/simple, https://pypi.ngc.nvidia.com\n",
      "Requirement already satisfied: nbformat in d:\\python\\fatbox\\fatbox\\lib\\site-packages (4.2.0)\n",
      "Collecting nbformat\n",
      "  Downloading nbformat-5.7.3-py3-none-any.whl (78 kB)\n",
      "     ---------------------------------------- 0.0/78.1 kB ? eta -:--:--\n",
      "     ------------------------------- -------- 61.4/78.1 kB 1.7 MB/s eta 0:00:01\n",
      "     ---------------------------------------- 78.1/78.1 kB 1.5 MB/s eta 0:00:00\n",
      "Requirement already satisfied: jupyter-core in d:\\python\\fatbox\\fatbox\\lib\\site-packages (from nbformat) (5.2.0)\n",
      "Collecting fastjsonschema\n",
      "  Downloading fastjsonschema-2.16.3-py3-none-any.whl (23 kB)\n",
      "Requirement already satisfied: traitlets>=5.1 in d:\\python\\fatbox\\fatbox\\lib\\site-packages (from nbformat) (5.9.0)\n",
      "Requirement already satisfied: jsonschema>=2.6 in d:\\python\\fatbox\\fatbox\\lib\\site-packages (from nbformat) (4.17.3)\n",
      "Requirement already satisfied: attrs>=17.4.0 in d:\\python\\fatbox\\fatbox\\lib\\site-packages (from jsonschema>=2.6->nbformat) (22.2.0)\n",
      "Requirement already satisfied: pyrsistent!=0.17.0,!=0.17.1,!=0.17.2,>=0.14.0 in d:\\python\\fatbox\\fatbox\\lib\\site-packages (from jsonschema>=2.6->nbformat) (0.19.3)\n",
      "Requirement already satisfied: pywin32>=1.0 in d:\\python\\fatbox\\fatbox\\lib\\site-packages (from jupyter-core->nbformat) (305)\n",
      "Requirement already satisfied: platformdirs>=2.5 in d:\\python\\fatbox\\fatbox\\lib\\site-packages (from jupyter-core->nbformat) (3.0.0)\n",
      "Installing collected packages: fastjsonschema, nbformat\n",
      "  Attempting uninstall: nbformat\n",
      "    Found existing installation: nbformat 4.2.0\n",
      "    Uninstalling nbformat-4.2.0:\n",
      "      Successfully uninstalled nbformat-4.2.0\n",
      "Successfully installed fastjsonschema-2.16.3 nbformat-5.7.3\n"
     ]
    }
   ],
   "source": [
    "!pip install --upgrade nbformat"
   ]
  },
  {
   "cell_type": "code",
   "execution_count": null,
   "metadata": {},
   "outputs": [],
   "source": []
  }
 ],
 "metadata": {
  "kernelspec": {
   "display_name": "fatbox",
   "language": "python",
   "name": "python3"
  },
  "language_info": {
   "codemirror_mode": {
    "name": "ipython",
    "version": 3
   },
   "file_extension": ".py",
   "mimetype": "text/x-python",
   "name": "python",
   "nbconvert_exporter": "python",
   "pygments_lexer": "ipython3",
   "version": "3.10.10"
  },
  "orig_nbformat": 4,
  "vscode": {
   "interpreter": {
    "hash": "a9c21a374ee8ec66b22c40f3c5bacee7f7f1c5f080153482ff8bd8f5b46d2c82"
   }
  }
 },
 "nbformat": 4,
 "nbformat_minor": 2
}
